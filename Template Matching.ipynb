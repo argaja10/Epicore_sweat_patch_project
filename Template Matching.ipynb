{
 "cells": [
  {
   "cell_type": "code",
   "execution_count": 1,
   "metadata": {},
   "outputs": [],
   "source": [
    "from __future__ import print_function\n",
    "import cv2\n",
    "import numpy as np\n",
    "import matplotlib.pyplot as plt"
   ]
  },
  {
   "cell_type": "code",
   "execution_count": 59,
   "metadata": {},
   "outputs": [],
   "source": [
    "#Defining some parameters (these parameters vary for different images and are to be adjusted for every image included in the test dataset)\n",
    "MAX_FEATURES = 500\n",
    "GOOD_MATCH_PERCENT = 0.25"
   ]
  },
  {
   "cell_type": "code",
   "execution_count": 60,
   "metadata": {},
   "outputs": [],
   "source": [
    "#Defining a function to display images in RGB format\n",
    "def display(img, cmap = None):\n",
    "    fig = plt.figure(figsize=(15,15))\n",
    "    ax = fig.add_subplot(111)\n",
    "    ax.imshow(img, cmap = cmap)"
   ]
  },
  {
   "cell_type": "code",
   "execution_count": 61,
   "metadata": {},
   "outputs": [],
   "source": [
    "#Function to transform the test image to match the template\n",
    "def align_images(im1, im2):\n",
    "    # Convert images to grayscale\n",
    "    im1Gray = cv2.cvtColor(im1, cv2.COLOR_BGR2GRAY)\n",
    "    im2Gray = cv2.cvtColor(im2, cv2.COLOR_BGR2GRAY)\n",
    "   # Detect ORB features and compute descriptors.\n",
    "    orb = cv2.ORB_create(MAX_FEATURES)\n",
    "    keypoints1, descriptors1 = orb.detectAndCompute(im1Gray, None)\n",
    "    keypoints2, descriptors2 = orb.detectAndCompute(im2Gray, None)\n",
    "  # Match features.\n",
    "    bf = cv2.BFMatcher(cv2.NORM_HAMMING, crossCheck=True)\n",
    "    matches = bf.match(descriptors1,descriptors2)\n",
    "    matches = sorted(matches, key = lambda x:x.distance)\n",
    "  # Sort matches by score\n",
    "    matches.sort(key=lambda x: x.distance, reverse=False)\n",
    "  # Draw top matches\n",
    "    imMatches = cv2.drawMatches(im1, keypoints1, im2, keypoints2, matches,None,flags=cv2.DrawMatchesFlags_NOT_DRAW_SINGLE_POINTS)\n",
    "    cv2.imwrite(\"matches.jpg\", imMatches)\n",
    "  # Extract location of good matches\n",
    "    points1 = np.zeros((len(matches), 2), dtype=np.float32)\n",
    "    points2 = np.zeros((len(matches), 2), dtype=np.float32) \n",
    "    for i, match in enumerate(matches):\n",
    "        points1[i, :] = keypoints1[match.queryIdx].pt\n",
    "        points2[i, :] = keypoints2[match.trainIdx].pt\n",
    "  # Find homography\n",
    "    h, mask = cv2.findHomography(points1, points2, cv2.RANSAC)\n",
    "\n",
    "  # Use homography\n",
    "    height, width, channels = im2.shape\n",
    "    im1Reg = cv2.warpPerspective(im1, h, (width, height))\n",
    "    return im1Reg, h"
   ]
  },
  {
   "cell_type": "code",
   "execution_count": 62,
   "metadata": {},
   "outputs": [
    {
     "name": "stdout",
     "output_type": "stream",
     "text": [
      "Reading reference image :  sweatpatch_template.JPG\n",
      "Reading image to align :  test_image.jpg\n",
      "Aligning images ...\n",
      "Saving aligned image :  aligned.JPG\n",
      "Estimated homography : \n",
      " [[ 6.54086222e-02  1.01733173e+00 -1.11167159e+03]\n",
      " [-9.67315438e-01  1.46043303e-02  2.16873249e+03]\n",
      " [ 5.95193284e-05  4.52074163e-05  1.00000000e+00]]\n"
     ]
    }
   ],
   "source": [
    "if __name__ == '__main__':\n",
    "    \n",
    "  # Read reference image\n",
    "    refFilename = \"sweatpatch_template.JPG\"\n",
    "    print(\"Reading reference image : \", refFilename)\n",
    "    imReference = cv2.imread(refFilename, cv2.IMREAD_COLOR)\n",
    "    \n",
    "  # Read image to be aligned\n",
    "    imFilename = \"test_image.jpg\"\n",
    "    print(\"Reading image to align : \", imFilename);\n",
    "    im = cv2.imread(imFilename, cv2.IMREAD_COLOR)\n",
    "    print(\"Aligning images ...\")\n",
    " # The estimated homography will be stored in h.\n",
    " # Registered image will be resotred in imReg.\n",
    "    imReg, h = align_images(im, imReference)\n",
    "    outFilename = \"aligned.JPG\"\n",
    " # Write aligned image to disk.\n",
    "    print(\"Saving aligned image : \", outFilename);\n",
    "    cv2.imwrite(outFilename, imReg)   \n",
    "  # Print estimated homography\n",
    "    print(\"Estimated homography : \\n\",  h)\n",
    "   "
   ]
  },
  {
   "cell_type": "code",
   "execution_count": null,
   "metadata": {},
   "outputs": [],
   "source": []
  }
 ],
 "metadata": {
  "kernelspec": {
   "display_name": "Python 3",
   "language": "python",
   "name": "python3"
  },
  "language_info": {
   "codemirror_mode": {
    "name": "ipython",
    "version": 3
   },
   "file_extension": ".py",
   "mimetype": "text/x-python",
   "name": "python",
   "nbconvert_exporter": "python",
   "pygments_lexer": "ipython3",
   "version": "3.7.6"
  }
 },
 "nbformat": 4,
 "nbformat_minor": 4
}
